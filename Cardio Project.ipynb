{
 "cells": [
  {
   "cell_type": "markdown",
   "metadata": {},
   "source": [
    "**Cardivascular Disease Project**\n",
    "\n",
    "CardioData_backupvascular Dieseases (CVDs) are a group of disorders of the heart and blood vessels and include coronary heart disease, cerebrovascular disease, rheumatic heart disease and other conditions(WHO). CVDs takes approximately 17,9 million lives annually around the globe, making it the leading cause of death globally. In singapore, nearly 1/3 of the deaths are due to heart disease or stroke alone.\n",
    "\n",
    "This has prompted us to analyse this dataset using various data analysis, data science and machine learning techniques to gain insights regarding the rather prevalent issue. Our project aims to find out which variable is the most important in judging presence of CVDs in a person."
   ]
  },
  {
   "cell_type": "code",
   "execution_count": 51,
   "id": "4d134e2b",
   "metadata": {},
   "outputs": [],
   "source": [
    "import numpy as np # scientific computing\n",
    "import pandas as pd # high-performance data structures\n",
    "import matplotlib.pyplot as plt # data visualization\n",
    "import seaborn as sb # high-level data visualization\n",
    "import os\n",
    "\n",
    "from sklearn import preprocessing"
   ]
  },
  {
   "cell_type": "code",
   "execution_count": 52,
   "id": "5bc8b510",
   "metadata": {},
   "outputs": [
    {
     "data": {
      "text/html": [
       "<div>\n",
       "<style scoped>\n",
       "    .dataframe tbody tr th:only-of-type {\n",
       "        vertical-align: middle;\n",
       "    }\n",
       "\n",
       "    .dataframe tbody tr th {\n",
       "        vertical-align: top;\n",
       "    }\n",
       "\n",
       "    .dataframe thead th {\n",
       "        text-align: right;\n",
       "    }\n",
       "</style>\n",
       "<table border=\"1\" class=\"dataframe\">\n",
       "  <thead>\n",
       "    <tr style=\"text-align: right;\">\n",
       "      <th></th>\n",
       "      <th>id</th>\n",
       "      <th>age</th>\n",
       "      <th>gender</th>\n",
       "      <th>height</th>\n",
       "      <th>weight</th>\n",
       "      <th>ap_hi</th>\n",
       "      <th>ap_lo</th>\n",
       "      <th>cholesterol</th>\n",
       "      <th>gluc</th>\n",
       "      <th>smoke</th>\n",
       "      <th>alco</th>\n",
       "      <th>active</th>\n",
       "      <th>cardio</th>\n",
       "    </tr>\n",
       "  </thead>\n",
       "  <tbody>\n",
       "    <tr>\n",
       "      <th>0</th>\n",
       "      <td>0</td>\n",
       "      <td>18393</td>\n",
       "      <td>2</td>\n",
       "      <td>168</td>\n",
       "      <td>62.0</td>\n",
       "      <td>110</td>\n",
       "      <td>80</td>\n",
       "      <td>1</td>\n",
       "      <td>1</td>\n",
       "      <td>0</td>\n",
       "      <td>0</td>\n",
       "      <td>1</td>\n",
       "      <td>0</td>\n",
       "    </tr>\n",
       "    <tr>\n",
       "      <th>1</th>\n",
       "      <td>1</td>\n",
       "      <td>20228</td>\n",
       "      <td>1</td>\n",
       "      <td>156</td>\n",
       "      <td>85.0</td>\n",
       "      <td>140</td>\n",
       "      <td>90</td>\n",
       "      <td>3</td>\n",
       "      <td>1</td>\n",
       "      <td>0</td>\n",
       "      <td>0</td>\n",
       "      <td>1</td>\n",
       "      <td>1</td>\n",
       "    </tr>\n",
       "    <tr>\n",
       "      <th>2</th>\n",
       "      <td>2</td>\n",
       "      <td>18857</td>\n",
       "      <td>1</td>\n",
       "      <td>165</td>\n",
       "      <td>64.0</td>\n",
       "      <td>130</td>\n",
       "      <td>70</td>\n",
       "      <td>3</td>\n",
       "      <td>1</td>\n",
       "      <td>0</td>\n",
       "      <td>0</td>\n",
       "      <td>0</td>\n",
       "      <td>1</td>\n",
       "    </tr>\n",
       "    <tr>\n",
       "      <th>3</th>\n",
       "      <td>3</td>\n",
       "      <td>17623</td>\n",
       "      <td>2</td>\n",
       "      <td>169</td>\n",
       "      <td>82.0</td>\n",
       "      <td>150</td>\n",
       "      <td>100</td>\n",
       "      <td>1</td>\n",
       "      <td>1</td>\n",
       "      <td>0</td>\n",
       "      <td>0</td>\n",
       "      <td>1</td>\n",
       "      <td>1</td>\n",
       "    </tr>\n",
       "    <tr>\n",
       "      <th>4</th>\n",
       "      <td>4</td>\n",
       "      <td>17474</td>\n",
       "      <td>1</td>\n",
       "      <td>156</td>\n",
       "      <td>56.0</td>\n",
       "      <td>100</td>\n",
       "      <td>60</td>\n",
       "      <td>1</td>\n",
       "      <td>1</td>\n",
       "      <td>0</td>\n",
       "      <td>0</td>\n",
       "      <td>0</td>\n",
       "      <td>0</td>\n",
       "    </tr>\n",
       "  </tbody>\n",
       "</table>\n",
       "</div>"
      ],
      "text/plain": [
       "   id    age  gender  height  weight  ap_hi  ap_lo  cholesterol  gluc  smoke  \\\n",
       "0   0  18393       2     168    62.0    110     80            1     1      0   \n",
       "1   1  20228       1     156    85.0    140     90            3     1      0   \n",
       "2   2  18857       1     165    64.0    130     70            3     1      0   \n",
       "3   3  17623       2     169    82.0    150    100            1     1      0   \n",
       "4   4  17474       1     156    56.0    100     60            1     1      0   \n",
       "\n",
       "   alco  active  cardio  \n",
       "0     0       1       0  \n",
       "1     0       1       1  \n",
       "2     0       0       1  \n",
       "3     0       1       1  \n",
       "4     0       0       0  "
      ]
     },
     "execution_count": 52,
     "metadata": {},
     "output_type": "execute_result"
    }
   ],
   "source": [
    "# Import data\n",
    "CardioData = pd.read_csv(\"cardio_train.csv\", sep=';')\n",
    "\n",
    "# First 5 row of dataset\n",
    "CardioData.head()"
   ]
  },
  {
   "cell_type": "code",
   "execution_count": 53,
   "id": "75b83cf1",
   "metadata": {},
   "outputs": [
    {
     "name": "stdout",
     "output_type": "stream",
     "text": [
      "<class 'pandas.core.frame.DataFrame'>\n",
      "RangeIndex: 70000 entries, 0 to 69999\n",
      "Data columns (total 13 columns):\n",
      " #   Column       Non-Null Count  Dtype  \n",
      "---  ------       --------------  -----  \n",
      " 0   id           70000 non-null  int64  \n",
      " 1   age          70000 non-null  int64  \n",
      " 2   gender       70000 non-null  int64  \n",
      " 3   height       70000 non-null  int64  \n",
      " 4   weight       70000 non-null  float64\n",
      " 5   ap_hi        70000 non-null  int64  \n",
      " 6   ap_lo        70000 non-null  int64  \n",
      " 7   cholesterol  70000 non-null  int64  \n",
      " 8   gluc         70000 non-null  int64  \n",
      " 9   smoke        70000 non-null  int64  \n",
      " 10  alco         70000 non-null  int64  \n",
      " 11  active       70000 non-null  int64  \n",
      " 12  cardio       70000 non-null  int64  \n",
      "dtypes: float64(1), int64(12)\n",
      "memory usage: 6.9 MB\n",
      "\n",
      "Data Shape: (70000, 13)\n",
      "Data type: <class 'pandas.core.frame.DataFrame'>\n"
     ]
    }
   ],
   "source": [
    "# Basic information about the dataset\n",
    "CardioData.info()\n",
    "print(\"\\nData Shape:\",CardioData.shape)\n",
    "print(\"Data type:\",type(CardioData))"
   ]
  },
  {
   "cell_type": "markdown",
   "id": "2e09836f",
   "metadata": {},
   "source": [
    "**Data Cleaning**\n",
    "\n",
    "We begin cleaning data to ensure the dataset is optimal for analysis and eventually, machine learning."
   ]
  },
  {
   "cell_type": "code",
   "execution_count": 54,
   "id": "c4ae7647",
   "metadata": {},
   "outputs": [],
   "source": [
    "# Create a copy of the dataset\n",
    "CardioData_backup = CardioData.copy()"
   ]
  },
  {
   "cell_type": "markdown",
   "id": "534d56f3",
   "metadata": {},
   "source": [
    "Base on the dataset, there are 5 numerical attributes:\n",
    "1. age\n",
    "2. height\n",
    "3. weight\n",
    "4. ap_hi\n",
    "5. ap_lo\n",
    "\n",
    "and 6 categorical attributes:\n",
    "1. gender (Male/Female)\n",
    "2. cholesterol (Cholesterol Levels)\n",
    "3. gluc (Glucose Levels)\n",
    "4. smoke (Smoke/Doesn't smoke)\n",
    "5. alco (Alcohol intake)\n",
    "6. active (Physically/Physically Inactive)\n",
    "          \n",
    "As pandas.info() takes as attribute as numerical type, we have to convert the \"categorical\" type to \"category\" data types. "
   ]
  },
  {
   "cell_type": "code",
   "execution_count": 55,
   "id": "efce23cf",
   "metadata": {},
   "outputs": [
    {
     "data": {
      "text/html": [
       "<div>\n",
       "<style scoped>\n",
       "    .dataframe tbody tr th:only-of-type {\n",
       "        vertical-align: middle;\n",
       "    }\n",
       "\n",
       "    .dataframe tbody tr th {\n",
       "        vertical-align: top;\n",
       "    }\n",
       "\n",
       "    .dataframe thead th {\n",
       "        text-align: right;\n",
       "    }\n",
       "</style>\n",
       "<table border=\"1\" class=\"dataframe\">\n",
       "  <thead>\n",
       "    <tr style=\"text-align: right;\">\n",
       "      <th></th>\n",
       "      <th>age</th>\n",
       "      <th>gender</th>\n",
       "      <th>height</th>\n",
       "      <th>weight</th>\n",
       "      <th>ap_hi</th>\n",
       "      <th>ap_lo</th>\n",
       "      <th>cholesterol</th>\n",
       "      <th>gluc</th>\n",
       "      <th>smoke</th>\n",
       "      <th>alco</th>\n",
       "      <th>active</th>\n",
       "      <th>cardio</th>\n",
       "    </tr>\n",
       "  </thead>\n",
       "  <tbody>\n",
       "    <tr>\n",
       "      <th>0</th>\n",
       "      <td>18393</td>\n",
       "      <td>2</td>\n",
       "      <td>168</td>\n",
       "      <td>62.0</td>\n",
       "      <td>110</td>\n",
       "      <td>80</td>\n",
       "      <td>1</td>\n",
       "      <td>1</td>\n",
       "      <td>0</td>\n",
       "      <td>0</td>\n",
       "      <td>1</td>\n",
       "      <td>0</td>\n",
       "    </tr>\n",
       "    <tr>\n",
       "      <th>1</th>\n",
       "      <td>20228</td>\n",
       "      <td>1</td>\n",
       "      <td>156</td>\n",
       "      <td>85.0</td>\n",
       "      <td>140</td>\n",
       "      <td>90</td>\n",
       "      <td>3</td>\n",
       "      <td>1</td>\n",
       "      <td>0</td>\n",
       "      <td>0</td>\n",
       "      <td>1</td>\n",
       "      <td>1</td>\n",
       "    </tr>\n",
       "    <tr>\n",
       "      <th>2</th>\n",
       "      <td>18857</td>\n",
       "      <td>1</td>\n",
       "      <td>165</td>\n",
       "      <td>64.0</td>\n",
       "      <td>130</td>\n",
       "      <td>70</td>\n",
       "      <td>3</td>\n",
       "      <td>1</td>\n",
       "      <td>0</td>\n",
       "      <td>0</td>\n",
       "      <td>0</td>\n",
       "      <td>1</td>\n",
       "    </tr>\n",
       "    <tr>\n",
       "      <th>3</th>\n",
       "      <td>17623</td>\n",
       "      <td>2</td>\n",
       "      <td>169</td>\n",
       "      <td>82.0</td>\n",
       "      <td>150</td>\n",
       "      <td>100</td>\n",
       "      <td>1</td>\n",
       "      <td>1</td>\n",
       "      <td>0</td>\n",
       "      <td>0</td>\n",
       "      <td>1</td>\n",
       "      <td>1</td>\n",
       "    </tr>\n",
       "    <tr>\n",
       "      <th>4</th>\n",
       "      <td>17474</td>\n",
       "      <td>1</td>\n",
       "      <td>156</td>\n",
       "      <td>56.0</td>\n",
       "      <td>100</td>\n",
       "      <td>60</td>\n",
       "      <td>1</td>\n",
       "      <td>1</td>\n",
       "      <td>0</td>\n",
       "      <td>0</td>\n",
       "      <td>0</td>\n",
       "      <td>0</td>\n",
       "    </tr>\n",
       "    <tr>\n",
       "      <th>...</th>\n",
       "      <td>...</td>\n",
       "      <td>...</td>\n",
       "      <td>...</td>\n",
       "      <td>...</td>\n",
       "      <td>...</td>\n",
       "      <td>...</td>\n",
       "      <td>...</td>\n",
       "      <td>...</td>\n",
       "      <td>...</td>\n",
       "      <td>...</td>\n",
       "      <td>...</td>\n",
       "      <td>...</td>\n",
       "    </tr>\n",
       "    <tr>\n",
       "      <th>69995</th>\n",
       "      <td>19240</td>\n",
       "      <td>2</td>\n",
       "      <td>168</td>\n",
       "      <td>76.0</td>\n",
       "      <td>120</td>\n",
       "      <td>80</td>\n",
       "      <td>1</td>\n",
       "      <td>1</td>\n",
       "      <td>1</td>\n",
       "      <td>0</td>\n",
       "      <td>1</td>\n",
       "      <td>0</td>\n",
       "    </tr>\n",
       "    <tr>\n",
       "      <th>69996</th>\n",
       "      <td>22601</td>\n",
       "      <td>1</td>\n",
       "      <td>158</td>\n",
       "      <td>126.0</td>\n",
       "      <td>140</td>\n",
       "      <td>90</td>\n",
       "      <td>2</td>\n",
       "      <td>2</td>\n",
       "      <td>0</td>\n",
       "      <td>0</td>\n",
       "      <td>1</td>\n",
       "      <td>1</td>\n",
       "    </tr>\n",
       "    <tr>\n",
       "      <th>69997</th>\n",
       "      <td>19066</td>\n",
       "      <td>2</td>\n",
       "      <td>183</td>\n",
       "      <td>105.0</td>\n",
       "      <td>180</td>\n",
       "      <td>90</td>\n",
       "      <td>3</td>\n",
       "      <td>1</td>\n",
       "      <td>0</td>\n",
       "      <td>1</td>\n",
       "      <td>0</td>\n",
       "      <td>1</td>\n",
       "    </tr>\n",
       "    <tr>\n",
       "      <th>69998</th>\n",
       "      <td>22431</td>\n",
       "      <td>1</td>\n",
       "      <td>163</td>\n",
       "      <td>72.0</td>\n",
       "      <td>135</td>\n",
       "      <td>80</td>\n",
       "      <td>1</td>\n",
       "      <td>2</td>\n",
       "      <td>0</td>\n",
       "      <td>0</td>\n",
       "      <td>0</td>\n",
       "      <td>1</td>\n",
       "    </tr>\n",
       "    <tr>\n",
       "      <th>69999</th>\n",
       "      <td>20540</td>\n",
       "      <td>1</td>\n",
       "      <td>170</td>\n",
       "      <td>72.0</td>\n",
       "      <td>120</td>\n",
       "      <td>80</td>\n",
       "      <td>2</td>\n",
       "      <td>1</td>\n",
       "      <td>0</td>\n",
       "      <td>0</td>\n",
       "      <td>1</td>\n",
       "      <td>0</td>\n",
       "    </tr>\n",
       "  </tbody>\n",
       "</table>\n",
       "<p>70000 rows × 12 columns</p>\n",
       "</div>"
      ],
      "text/plain": [
       "         age gender  height  weight  ap_hi  ap_lo cholesterol gluc smoke alco  \\\n",
       "0      18393      2     168    62.0    110     80           1    1     0    0   \n",
       "1      20228      1     156    85.0    140     90           3    1     0    0   \n",
       "2      18857      1     165    64.0    130     70           3    1     0    0   \n",
       "3      17623      2     169    82.0    150    100           1    1     0    0   \n",
       "4      17474      1     156    56.0    100     60           1    1     0    0   \n",
       "...      ...    ...     ...     ...    ...    ...         ...  ...   ...  ...   \n",
       "69995  19240      2     168    76.0    120     80           1    1     1    0   \n",
       "69996  22601      1     158   126.0    140     90           2    2     0    0   \n",
       "69997  19066      2     183   105.0    180     90           3    1     0    1   \n",
       "69998  22431      1     163    72.0    135     80           1    2     0    0   \n",
       "69999  20540      1     170    72.0    120     80           2    1     0    0   \n",
       "\n",
       "      active  cardio  \n",
       "0          1       0  \n",
       "1          1       1  \n",
       "2          0       1  \n",
       "3          1       1  \n",
       "4          0       0  \n",
       "...      ...     ...  \n",
       "69995      1       0  \n",
       "69996      1       1  \n",
       "69997      0       1  \n",
       "69998      0       1  \n",
       "69999      1       0  \n",
       "\n",
       "[70000 rows x 12 columns]"
      ]
     },
     "execution_count": 55,
     "metadata": {},
     "output_type": "execute_result"
    }
   ],
   "source": [
    "# Remove id column\n",
    "CardioData_backup = CardioData_backup.drop(columns='id')\n",
    "\n",
    "# List for categorical variables\n",
    "cat_attribs = ['gender', 'cholesterol', 'gluc', 'smoke', 'alco', 'active']\n",
    "\n",
    "# List for numerical variables\n",
    "num_attribs = ['age', 'height', 'weight', 'ap_hi', 'ap_lo']\n",
    "\n",
    "# Convert categorical variables into “category” data type\n",
    "for cat_attrib in cat_attribs: \n",
    "    CardioData_backup[cat_attrib] = CardioData_backup[cat_attrib].astype('category') # convert data\n",
    "CardioData_backup"
   ]
  },
  {
   "cell_type": "code",
   "execution_count": 56,
   "id": "f7892b41",
   "metadata": {},
   "outputs": [
    {
     "data": {
      "text/html": [
       "<div>\n",
       "<style scoped>\n",
       "    .dataframe tbody tr th:only-of-type {\n",
       "        vertical-align: middle;\n",
       "    }\n",
       "\n",
       "    .dataframe tbody tr th {\n",
       "        vertical-align: top;\n",
       "    }\n",
       "\n",
       "    .dataframe thead th {\n",
       "        text-align: right;\n",
       "    }\n",
       "</style>\n",
       "<table border=\"1\" class=\"dataframe\">\n",
       "  <thead>\n",
       "    <tr style=\"text-align: right;\">\n",
       "      <th></th>\n",
       "      <th>count</th>\n",
       "      <th>mean</th>\n",
       "      <th>std</th>\n",
       "      <th>min</th>\n",
       "      <th>25%</th>\n",
       "      <th>50%</th>\n",
       "      <th>75%</th>\n",
       "      <th>max</th>\n",
       "    </tr>\n",
       "  </thead>\n",
       "  <tbody>\n",
       "    <tr>\n",
       "      <th>age</th>\n",
       "      <td>70000.0</td>\n",
       "      <td>19468.865814</td>\n",
       "      <td>2467.251667</td>\n",
       "      <td>10798.0</td>\n",
       "      <td>17664.0</td>\n",
       "      <td>19703.0</td>\n",
       "      <td>21327.0</td>\n",
       "      <td>23713.0</td>\n",
       "    </tr>\n",
       "    <tr>\n",
       "      <th>height</th>\n",
       "      <td>70000.0</td>\n",
       "      <td>164.359229</td>\n",
       "      <td>8.210126</td>\n",
       "      <td>55.0</td>\n",
       "      <td>159.0</td>\n",
       "      <td>165.0</td>\n",
       "      <td>170.0</td>\n",
       "      <td>250.0</td>\n",
       "    </tr>\n",
       "    <tr>\n",
       "      <th>weight</th>\n",
       "      <td>70000.0</td>\n",
       "      <td>74.205690</td>\n",
       "      <td>14.395757</td>\n",
       "      <td>10.0</td>\n",
       "      <td>65.0</td>\n",
       "      <td>72.0</td>\n",
       "      <td>82.0</td>\n",
       "      <td>200.0</td>\n",
       "    </tr>\n",
       "    <tr>\n",
       "      <th>ap_hi</th>\n",
       "      <td>70000.0</td>\n",
       "      <td>128.817286</td>\n",
       "      <td>154.011419</td>\n",
       "      <td>-150.0</td>\n",
       "      <td>120.0</td>\n",
       "      <td>120.0</td>\n",
       "      <td>140.0</td>\n",
       "      <td>16020.0</td>\n",
       "    </tr>\n",
       "    <tr>\n",
       "      <th>ap_lo</th>\n",
       "      <td>70000.0</td>\n",
       "      <td>96.630414</td>\n",
       "      <td>188.472530</td>\n",
       "      <td>-70.0</td>\n",
       "      <td>80.0</td>\n",
       "      <td>80.0</td>\n",
       "      <td>90.0</td>\n",
       "      <td>11000.0</td>\n",
       "    </tr>\n",
       "    <tr>\n",
       "      <th>cardio</th>\n",
       "      <td>70000.0</td>\n",
       "      <td>0.499700</td>\n",
       "      <td>0.500003</td>\n",
       "      <td>0.0</td>\n",
       "      <td>0.0</td>\n",
       "      <td>0.0</td>\n",
       "      <td>1.0</td>\n",
       "      <td>1.0</td>\n",
       "    </tr>\n",
       "  </tbody>\n",
       "</table>\n",
       "</div>"
      ],
      "text/plain": [
       "          count          mean          std      min      25%      50%  \\\n",
       "age     70000.0  19468.865814  2467.251667  10798.0  17664.0  19703.0   \n",
       "height  70000.0    164.359229     8.210126     55.0    159.0    165.0   \n",
       "weight  70000.0     74.205690    14.395757     10.0     65.0     72.0   \n",
       "ap_hi   70000.0    128.817286   154.011419   -150.0    120.0    120.0   \n",
       "ap_lo   70000.0     96.630414   188.472530    -70.0     80.0     80.0   \n",
       "cardio  70000.0      0.499700     0.500003      0.0      0.0      0.0   \n",
       "\n",
       "            75%      max  \n",
       "age     21327.0  23713.0  \n",
       "height    170.0    250.0  \n",
       "weight     82.0    200.0  \n",
       "ap_hi     140.0  16020.0  \n",
       "ap_lo      90.0  11000.0  \n",
       "cardio      1.0      1.0  "
      ]
     },
     "execution_count": 56,
     "metadata": {},
     "output_type": "execute_result"
    }
   ],
   "source": [
    "# Summary of numerical attributes' statistics\n",
    "CardioData_backup.describe().transpose()"
   ]
  },
  {
   "cell_type": "markdown",
   "id": "8f7102e2",
   "metadata": {},
   "source": [
    "As per the description of the numerical data, we identified that both min value for both ap_hi and ap-low, -150.0 and -70.0 respectively, are negative. This is unrealistic and indicate the presence of possible outliers.\n",
    "\n",
    "The age is also represented in terms of number of days, we will be changing it to represent the number of years of age. This is more intuitive and easier to understand.\n"
   ]
  },
  {
   "cell_type": "code",
   "execution_count": 57,
   "id": "655a7327",
   "metadata": {},
   "outputs": [],
   "source": [
    "# Convert the age into years\n",
    "CardioData_backup['age'] = CardioData_backup['age'] // 365.25"
   ]
  },
  {
   "cell_type": "markdown",
   "id": "3173a827",
   "metadata": {},
   "source": [
    "**Numerical Data Analysis**\n",
    "\n",
    "Now we will visualise the data to make better sense of how our data is looking like. We\n",
    "will use box plots for prelimary data representation."
   ]
  },
  {
   "cell_type": "code",
   "execution_count": 58,
   "id": "68060cfb",
   "metadata": {},
   "outputs": [
    {
     "data": {
      "image/png": "[encoded data removed]",
      "text/plain": [
       "<Figure size 1600x400 with 1 Axes>"
      ]
     },
     "metadata": {},
     "output_type": "display_data"
    },
    {
     "data": {
      "image/png": "[encoded data removed]",
      "text/plain": [
       "<Figure size 1600x400 with 1 Axes>"
      ]
     },
     "metadata": {},
     "output_type": "display_data"
    },
    {
     "data": {
      "image/png": "[encoded data removed]",
      "text/plain": [
       "<Figure size 1600x400 with 1 Axes>"
      ]
     },
     "metadata": {},
     "output_type": "display_data"
    },
    {
     "data": {
      "image/png": "[encoded data removed]",
      "text/plain": [
       "<Figure size 1600x400 with 1 Axes>"
      ]
     },
     "metadata": {},
     "output_type": "display_data"
    },
    {
     "data": {
      "image/png": "[encoded data removed]",
      "text/plain": [
       "<Figure size 1600x400 with 1 Axes>"
      ]
     },
     "metadata": {},
     "output_type": "display_data"
    }
   ],
   "source": [
    "# Extract numerical attributes from the dataset\n",
    "numeric_data = pd.DataFrame(CardioData_backup[num_attribs])\n",
    "\n",
    "# Boxplot of the numeric data\n",
    "for var in numeric_data: # iterate over\n",
    "    fig, axes = plt.subplots(nrows=1, ncols=1, figsize=(16,4)) # setup the fr\n",
    "    sb.boxplot(data=CardioData_backup, x=var, orient='h') # box plot"
   ]
  },
  {
   "cell_type": "markdown",
   "id": "ab7e9b56",
   "metadata": {},
   "source": [
    "**Blood Pressure**\n",
    "\n",
    "Based on the boxplot for ap_hi and ap_lo, there are a lot of outliers that can be filtered out. Systolic(bp after heart contracts) and diastolic(bp before heart contracts) blood pressure should be within 33 - 180 mmHg in non-emergency cases as seen in the table below(excluding \"dangerously low\" and \"hypertensive crisis\").\n",
    "\n",
    "In this prelimary data preparation, we want to find out how many outliers do we have amongst our current dataset which we will filter out by limiting the systolic blood pressure (50<ap_hi<180) and diastolic blood pressure (34<ap_lo<120)."
   ]
  },
  {
   "cell_type": "markdown",
   "metadata": {},
   "source": []
  },
  {
   "cell_type": "markdown",
   "metadata": {},
   "source": [
    "![BloodPressureTable.jpeg](attachment:BloodPressureTable.jpeg)"
   ]
  },
  {
   "cell_type": "code",
   "execution_count": 59,
   "id": "bd14495c",
   "metadata": {},
   "outputs": [
    {
     "name": "stdout",
     "output_type": "stream",
     "text": [
      "The number of training examples have ap_hi and ap_lo outside the range of 40 - 200 mmHg\n"
     ]
    },
    {
     "data": {
      "text/plain": [
       "1577"
      ]
     },
     "execution_count": 59,
     "metadata": {},
     "output_type": "execute_result"
    }
   ],
   "source": [
    "# Extract Systolic (ap_hi) and Diastolic (ap_lo) blood pressure\n",
    "ap_hi = CardioData_backup['ap_hi']\n",
    "ap_lo = CardioData_backup['ap_lo']\n",
    "# Print number of unusual training examples\n",
    "print(\"The number of training examples have ap_hi and ap_lo outside the range of 40 - 200 mmHg\")\n",
    "CardioData_backup['cardio'].loc[(ap_hi < 50) | (ap_hi > 180) | (ap_lo < 34) | (ap_lo > 120)].count()"
   ]
  },
  {
   "cell_type": "markdown",
   "id": "69d376f3",
   "metadata": {},
   "source": [
    "A total of 1577 data points have ap_hi and ap_lo outside the range of 34 - 129 mmHg for ap_lo and 50 - 180 for ap_hi which is around 1.86% of the dataset from our preliminary data preparation."
   ]
  },
  {
   "cell_type": "code",
   "execution_count": 60,
   "id": "466af14b",
   "metadata": {},
   "outputs": [
    {
     "data": {
      "text/plain": [
       "<AxesSubplot:xlabel='ap_lo'>"
      ]
     },
     "execution_count": 60,
     "metadata": {},
     "output_type": "execute_result"
    },
    {
     "data": {
      "image/png": "[encoded data removed]",
      "text/plain": [
       "<Figure size 1000x1000 with 2 Axes>"
      ]
     },
     "metadata": {},
     "output_type": "display_data"
    }
   ],
   "source": [
    "CardioData_backup1 = CardioData_backup.copy()\n",
    "\n",
    "CardioData_backup1 = CardioData_backup1.drop(CardioData_backup.loc[(ap_hi < 50) | (ap_hi > 180) | (ap_lo < 34) | (ap_lo > 120)].index)\n",
    "fig, axes = plt.subplots(nrows=2, figsize=(10,10))\n",
    "sb.boxplot(data=CardioData_backup1, x='ap_hi', ax=axes[0], orient='h')\n",
    "sb.boxplot(data=CardioData_backup1, x='ap_lo', ax=axes[1], orient='h')"
   ]
  },
  {
   "cell_type": "markdown",
   "id": "b64d8d37",
   "metadata": {},
   "source": [
    "We will be converting the blood pressure readings into \"Category\" type to make better use of the data that we have for now.\n",
    "\n",
    "We will be splitting the data into the 6 level(exclulding \"dangerously low\" and \"hypertensive crisis\") based on the categories on the figure from a medically authored and reviewed MedicineNet article \"Blood Pressure Readings: Chart, Normal, High, Low\". "
   ]
  },
  {
   "cell_type": "markdown",
   "id": "fc77bf8c",
   "metadata": {},
   "source": [
    "We shall assign the 5 different stages of blood pressure from 1 to 5\n",
    "\n",
    "1. Very low\n",
    "2. low\n",
    "3. Normal\n",
    "4. Elevated\n",
    "5. High blood pressure (Hypertension) Stage 1\n",
    "6. High blood pressure (Hypertension) Stage 2\n",
    "\n",
    "Diastolic blood pressure will not have stage 4: Elevated as both stage 5 and 6 falls under the category of 4 according to the table. Due to the overlap, we have opted to use both stage 5 and stage 6 categories instead of stage 4 solely in order to better define the dataset.\n"
   ]
  },
  {
   "cell_type": "code",
   "execution_count": 61,
   "id": "c889c676",
   "metadata": {},
   "outputs": [],
   "source": [
    "# Rank Systolic blood pressure\n",
    "CardioData_backup.loc[ap_hi <= 60, 'ap_hi'] = 1\n",
    "CardioData_backup.loc[(ap_hi > 60) & (ap_hi < 90), 'ap_hi'] = 2\n",
    "CardioData_backup.loc[(ap_hi > 90) & (ap_hi < 120), 'ap_hi'] = 3\n",
    "CardioData_backup.loc[(ap_hi >= 120) & (ap_hi <= 129), 'ap_hi'] = 4\n",
    "CardioData_backup.loc[(ap_hi >= 130) & (ap_hi <= 139), 'ap_hi'] = 5\n",
    "CardioData_backup.loc[ap_hi >= 140, 'ap_hi'] = 6\n",
    "\n",
    "# Rank Diastolic blood pressure\n",
    "CardioData_backup.loc[ap_lo <= 40, 'ap_lo'] = 1\n",
    "CardioData_backup.loc[(ap_lo > 40) & (ap_lo < 60), 'ap_lo'] = 3\n",
    "CardioData_backup.loc[(ap_lo >= 80) & (ap_lo <= 89), 'ap_lo'] = 5\n",
    "CardioData_backup.loc[ap_lo >= 90, 'ap_lo'] = 6"
   ]
  },
  {
   "cell_type": "markdown",
   "id": "28acd99d",
   "metadata": {},
   "source": [
    "We shall rank the data points and sort them into the different levels and add a new category replacing ap_hi and ap_lo with a new column called bloodpressure \"bp\"."
   ]
  },
  {
   "cell_type": "code",
   "execution_count": 62,
   "id": "dccd60f0",
   "metadata": {},
   "outputs": [],
   "source": [
    "# Rank blood pressure and append it to the dataframe\n",
    "bp = pd.DataFrame(CardioData_backup[['ap_hi', 'ap_lo']])\n",
    "CardioData_backup['bp'] = bp.max(axis=1).astype('category')\n",
    "\n",
    "# Drop ap_hi, ap_lo columns\n",
    "CardioData_backup = CardioData_backup.drop(columns=['ap_hi', 'ap_lo'])\n",
    "\n",
    "# Update categorical and numerical attributes\n",
    "cat_attribs = ['gender', 'cholesterol', 'gluc', 'smoke', 'alco', 'active', 'bp', 'cardio']\n",
    "num_attribs = ['age', 'height', 'weight']"
   ]
  },
  {
   "cell_type": "code",
   "execution_count": 63,
   "id": "e8da7959",
   "metadata": {},
   "outputs": [
    {
     "name": "stdout",
     "output_type": "stream",
     "text": [
      "<class 'pandas.core.frame.DataFrame'>\n",
      "RangeIndex: 70000 entries, 0 to 69999\n",
      "Data columns (total 11 columns):\n",
      " #   Column       Non-Null Count  Dtype   \n",
      "---  ------       --------------  -----   \n",
      " 0   age          70000 non-null  float64 \n",
      " 1   gender       70000 non-null  category\n",
      " 2   height       70000 non-null  int64   \n",
      " 3   weight       70000 non-null  float64 \n",
      " 4   cholesterol  70000 non-null  category\n",
      " 5   gluc         70000 non-null  category\n",
      " 6   smoke        70000 non-null  category\n",
      " 7   alco         70000 non-null  category\n",
      " 8   active       70000 non-null  category\n",
      " 9   cardio       70000 non-null  int64   \n",
      " 10  bp           70000 non-null  category\n",
      "dtypes: category(7), float64(2), int64(2)\n",
      "memory usage: 2.6 MB\n"
     ]
    }
   ],
   "source": [
    "CardioData_backup.info()"
   ]
  },
  {
   "cell_type": "code",
   "execution_count": null,
   "id": "8f0ffa7f",
   "metadata": {},
   "outputs": [],
   "source": []
  }
 ],
 "metadata": {
  "kernelspec": {
   "display_name": "Python 3 (ipykernel)",
   "language": "python",
   "name": "python3"
  },
  "language_info": {
   "codemirror_mode": {
    "name": "ipython",
    "version": 3
   },
   "file_extension": ".py",
   "mimetype": "text/x-python",
   "name": "python",
   "nbconvert_exporter": "python",
   "pygments_lexer": "ipython3",
   "version": "3.9.13"
  }
 },
 "nbformat": 4,
 "nbformat_minor": 5
}
