{
 "cells": [
  {
   "cell_type": "markdown",
   "metadata": {},
   "source": [
    "**Cardivascular Disease Project**\n",
    "\n",
    "Cardio"
   ]
  },
  {
   "cell_type": "code",
   "execution_count": 2,
   "id": "4d134e2b",
   "metadata": {},
   "outputs": [],
   "source": [
    "import numpy as np # scientific computing\n",
    "import pandas as pd # high-performance data structures\n",
    "import matplotlib.pyplot as plt # data visualization\n",
    "import seaborn as sb # high-level data visualization\n",
    "import os\n",
    "\n",
    "from sklearn import preprocessing"
   ]
  },
  {
   "cell_type": "code",
   "execution_count": 3,
   "id": "5bc8b510",
   "metadata": {},
   "outputs": [
    {
     "data": {
      "text/html": [
       "<div>\n",
       "<style scoped>\n",
       "    .dataframe tbody tr th:only-of-type {\n",
       "        vertical-align: middle;\n",
       "    }\n",
       "\n",
       "    .dataframe tbody tr th {\n",
       "        vertical-align: top;\n",
       "    }\n",
       "\n",
       "    .dataframe thead th {\n",
       "        text-align: right;\n",
       "    }\n",
       "</style>\n",
       "<table border=\"1\" class=\"dataframe\">\n",
       "  <thead>\n",
       "    <tr style=\"text-align: right;\">\n",
       "      <th></th>\n",
       "      <th>id</th>\n",
       "      <th>age</th>\n",
       "      <th>gender</th>\n",
       "      <th>height</th>\n",
       "      <th>weight</th>\n",
       "      <th>ap_hi</th>\n",
       "      <th>ap_lo</th>\n",
       "      <th>cholesterol</th>\n",
       "      <th>gluc</th>\n",
       "      <th>smoke</th>\n",
       "      <th>alco</th>\n",
       "      <th>active</th>\n",
       "      <th>cardio</th>\n",
       "    </tr>\n",
       "  </thead>\n",
       "  <tbody>\n",
       "    <tr>\n",
       "      <th>0</th>\n",
       "      <td>0</td>\n",
       "      <td>18393</td>\n",
       "      <td>2</td>\n",
       "      <td>168</td>\n",
       "      <td>62.0</td>\n",
       "      <td>110</td>\n",
       "      <td>80</td>\n",
       "      <td>1</td>\n",
       "      <td>1</td>\n",
       "      <td>0</td>\n",
       "      <td>0</td>\n",
       "      <td>1</td>\n",
       "      <td>0</td>\n",
       "    </tr>\n",
       "    <tr>\n",
       "      <th>1</th>\n",
       "      <td>1</td>\n",
       "      <td>20228</td>\n",
       "      <td>1</td>\n",
       "      <td>156</td>\n",
       "      <td>85.0</td>\n",
       "      <td>140</td>\n",
       "      <td>90</td>\n",
       "      <td>3</td>\n",
       "      <td>1</td>\n",
       "      <td>0</td>\n",
       "      <td>0</td>\n",
       "      <td>1</td>\n",
       "      <td>1</td>\n",
       "    </tr>\n",
       "    <tr>\n",
       "      <th>2</th>\n",
       "      <td>2</td>\n",
       "      <td>18857</td>\n",
       "      <td>1</td>\n",
       "      <td>165</td>\n",
       "      <td>64.0</td>\n",
       "      <td>130</td>\n",
       "      <td>70</td>\n",
       "      <td>3</td>\n",
       "      <td>1</td>\n",
       "      <td>0</td>\n",
       "      <td>0</td>\n",
       "      <td>0</td>\n",
       "      <td>1</td>\n",
       "    </tr>\n",
       "    <tr>\n",
       "      <th>3</th>\n",
       "      <td>3</td>\n",
       "      <td>17623</td>\n",
       "      <td>2</td>\n",
       "      <td>169</td>\n",
       "      <td>82.0</td>\n",
       "      <td>150</td>\n",
       "      <td>100</td>\n",
       "      <td>1</td>\n",
       "      <td>1</td>\n",
       "      <td>0</td>\n",
       "      <td>0</td>\n",
       "      <td>1</td>\n",
       "      <td>1</td>\n",
       "    </tr>\n",
       "    <tr>\n",
       "      <th>4</th>\n",
       "      <td>4</td>\n",
       "      <td>17474</td>\n",
       "      <td>1</td>\n",
       "      <td>156</td>\n",
       "      <td>56.0</td>\n",
       "      <td>100</td>\n",
       "      <td>60</td>\n",
       "      <td>1</td>\n",
       "      <td>1</td>\n",
       "      <td>0</td>\n",
       "      <td>0</td>\n",
       "      <td>0</td>\n",
       "      <td>0</td>\n",
       "    </tr>\n",
       "  </tbody>\n",
       "</table>\n",
       "</div>"
      ],
      "text/plain": [
       "   id    age  gender  height  weight  ap_hi  ap_lo  cholesterol  gluc  smoke  \\\n",
       "0   0  18393       2     168    62.0    110     80            1     1      0   \n",
       "1   1  20228       1     156    85.0    140     90            3     1      0   \n",
       "2   2  18857       1     165    64.0    130     70            3     1      0   \n",
       "3   3  17623       2     169    82.0    150    100            1     1      0   \n",
       "4   4  17474       1     156    56.0    100     60            1     1      0   \n",
       "\n",
       "   alco  active  cardio  \n",
       "0     0       1       0  \n",
       "1     0       1       1  \n",
       "2     0       0       1  \n",
       "3     0       1       1  \n",
       "4     0       0       0  "
      ]
     },
     "execution_count": 3,
     "metadata": {},
     "output_type": "execute_result"
    }
   ],
   "source": [
    "# Import data\n",
    "CardioData = pd.read_csv(\"cardio_train.csv\", sep=';')\n",
    "\n",
    "# First 5 row of dataset\n",
    "CardioData.head()"
   ]
  },
  {
   "cell_type": "code",
   "execution_count": 14,
   "id": "75b83cf1",
   "metadata": {},
   "outputs": [
    {
     "name": "stdout",
     "output_type": "stream",
     "text": [
      "<class 'pandas.core.frame.DataFrame'>\n",
      "RangeIndex: 70000 entries, 0 to 69999\n",
      "Data columns (total 13 columns):\n",
      " #   Column       Non-Null Count  Dtype  \n",
      "---  ------       --------------  -----  \n",
      " 0   id           70000 non-null  int64  \n",
      " 1   age          70000 non-null  int64  \n",
      " 2   gender       70000 non-null  int64  \n",
      " 3   height       70000 non-null  int64  \n",
      " 4   weight       70000 non-null  float64\n",
      " 5   ap_hi        70000 non-null  int64  \n",
      " 6   ap_lo        70000 non-null  int64  \n",
      " 7   cholesterol  70000 non-null  int64  \n",
      " 8   gluc         70000 non-null  int64  \n",
      " 9   smoke        70000 non-null  int64  \n",
      " 10  alco         70000 non-null  int64  \n",
      " 11  active       70000 non-null  int64  \n",
      " 12  cardio       70000 non-null  int64  \n",
      "dtypes: float64(1), int64(12)\n",
      "memory usage: 6.9 MB\n",
      "\n",
      "Data Shape: (70000, 13)\n",
      "Data Shape: <class 'pandas.core.frame.DataFrame'>\n"
     ]
    }
   ],
   "source": [
    "# Basic information about the dataset\n",
    "CardioData.info()\n",
    "print(\"\\nData Shape:\",CardioData.shape)\n",
    "print(\"Data type:\",type(CardioData))"
   ]
  },
  {
   "cell_type": "markdown",
   "id": "2e09836f",
   "metadata": {},
   "source": [
    "**Data Cleaning**\n",
    "\n",
    "We begin cleaning data to ensure the dataset is optimal for analysis and eventually machine learning."
   ]
  },
  {
   "cell_type": "code",
   "execution_count": 5,
   "id": "c4ae7647",
   "metadata": {},
   "outputs": [],
   "source": [
    "# Create a copy of the dataset\n",
    "Cardio = CardioData.copy()"
   ]
  },
  {
   "cell_type": "markdown",
   "id": "534d56f3",
   "metadata": {},
   "source": [
    "Looking at the dataset, we identify that there are \n",
    "\n",
    "5 numerical attributes:\n",
    "1. age\n",
    "2. height\n",
    "3. weight\n",
    "4. ap_hi\n",
    "5. ap_lo\n",
    "\n",
    "6 categorical attributes:\n",
    "1. gender (Male or Female)\n",
    "2. cholesterol (Cholesterol Levels)\n",
    "3. gluc (Glucose Levels)\n",
    "4. smoke (Smoke or Doesn't smoke)\n",
    "5. alco (Alcohol intake)\n",
    "6. active (Physically or Non-Physically Active)\n",
    "          \n",
    "As pandas.info() takes as attribute as numerical type, we have to convert the\n",
    "\"categorical\" type to \"category\" data types. "
   ]
  },
  {
   "cell_type": "code",
   "execution_count": 7,
   "id": "efce23cf",
   "metadata": {},
   "outputs": [
    {
     "data": {
      "text/html": [
       "<div>\n",
       "<style scoped>\n",
       "    .dataframe tbody tr th:only-of-type {\n",
       "        vertical-align: middle;\n",
       "    }\n",
       "\n",
       "    .dataframe tbody tr th {\n",
       "        vertical-align: top;\n",
       "    }\n",
       "\n",
       "    .dataframe thead th {\n",
       "        text-align: right;\n",
       "    }\n",
       "</style>\n",
       "<table border=\"1\" class=\"dataframe\">\n",
       "  <thead>\n",
       "    <tr style=\"text-align: right;\">\n",
       "      <th></th>\n",
       "      <th>age</th>\n",
       "      <th>gender</th>\n",
       "      <th>height</th>\n",
       "      <th>weight</th>\n",
       "      <th>ap_hi</th>\n",
       "      <th>ap_lo</th>\n",
       "      <th>cholesterol</th>\n",
       "      <th>gluc</th>\n",
       "      <th>smoke</th>\n",
       "      <th>alco</th>\n",
       "      <th>active</th>\n",
       "      <th>cardio</th>\n",
       "    </tr>\n",
       "  </thead>\n",
       "  <tbody>\n",
       "    <tr>\n",
       "      <th>0</th>\n",
       "      <td>18393</td>\n",
       "      <td>2</td>\n",
       "      <td>168</td>\n",
       "      <td>62.0</td>\n",
       "      <td>110</td>\n",
       "      <td>80</td>\n",
       "      <td>1</td>\n",
       "      <td>1</td>\n",
       "      <td>0</td>\n",
       "      <td>0</td>\n",
       "      <td>1</td>\n",
       "      <td>0</td>\n",
       "    </tr>\n",
       "    <tr>\n",
       "      <th>1</th>\n",
       "      <td>20228</td>\n",
       "      <td>1</td>\n",
       "      <td>156</td>\n",
       "      <td>85.0</td>\n",
       "      <td>140</td>\n",
       "      <td>90</td>\n",
       "      <td>3</td>\n",
       "      <td>1</td>\n",
       "      <td>0</td>\n",
       "      <td>0</td>\n",
       "      <td>1</td>\n",
       "      <td>1</td>\n",
       "    </tr>\n",
       "    <tr>\n",
       "      <th>2</th>\n",
       "      <td>18857</td>\n",
       "      <td>1</td>\n",
       "      <td>165</td>\n",
       "      <td>64.0</td>\n",
       "      <td>130</td>\n",
       "      <td>70</td>\n",
       "      <td>3</td>\n",
       "      <td>1</td>\n",
       "      <td>0</td>\n",
       "      <td>0</td>\n",
       "      <td>0</td>\n",
       "      <td>1</td>\n",
       "    </tr>\n",
       "    <tr>\n",
       "      <th>3</th>\n",
       "      <td>17623</td>\n",
       "      <td>2</td>\n",
       "      <td>169</td>\n",
       "      <td>82.0</td>\n",
       "      <td>150</td>\n",
       "      <td>100</td>\n",
       "      <td>1</td>\n",
       "      <td>1</td>\n",
       "      <td>0</td>\n",
       "      <td>0</td>\n",
       "      <td>1</td>\n",
       "      <td>1</td>\n",
       "    </tr>\n",
       "    <tr>\n",
       "      <th>4</th>\n",
       "      <td>17474</td>\n",
       "      <td>1</td>\n",
       "      <td>156</td>\n",
       "      <td>56.0</td>\n",
       "      <td>100</td>\n",
       "      <td>60</td>\n",
       "      <td>1</td>\n",
       "      <td>1</td>\n",
       "      <td>0</td>\n",
       "      <td>0</td>\n",
       "      <td>0</td>\n",
       "      <td>0</td>\n",
       "    </tr>\n",
       "    <tr>\n",
       "      <th>...</th>\n",
       "      <td>...</td>\n",
       "      <td>...</td>\n",
       "      <td>...</td>\n",
       "      <td>...</td>\n",
       "      <td>...</td>\n",
       "      <td>...</td>\n",
       "      <td>...</td>\n",
       "      <td>...</td>\n",
       "      <td>...</td>\n",
       "      <td>...</td>\n",
       "      <td>...</td>\n",
       "      <td>...</td>\n",
       "    </tr>\n",
       "    <tr>\n",
       "      <th>69995</th>\n",
       "      <td>19240</td>\n",
       "      <td>2</td>\n",
       "      <td>168</td>\n",
       "      <td>76.0</td>\n",
       "      <td>120</td>\n",
       "      <td>80</td>\n",
       "      <td>1</td>\n",
       "      <td>1</td>\n",
       "      <td>1</td>\n",
       "      <td>0</td>\n",
       "      <td>1</td>\n",
       "      <td>0</td>\n",
       "    </tr>\n",
       "    <tr>\n",
       "      <th>69996</th>\n",
       "      <td>22601</td>\n",
       "      <td>1</td>\n",
       "      <td>158</td>\n",
       "      <td>126.0</td>\n",
       "      <td>140</td>\n",
       "      <td>90</td>\n",
       "      <td>2</td>\n",
       "      <td>2</td>\n",
       "      <td>0</td>\n",
       "      <td>0</td>\n",
       "      <td>1</td>\n",
       "      <td>1</td>\n",
       "    </tr>\n",
       "    <tr>\n",
       "      <th>69997</th>\n",
       "      <td>19066</td>\n",
       "      <td>2</td>\n",
       "      <td>183</td>\n",
       "      <td>105.0</td>\n",
       "      <td>180</td>\n",
       "      <td>90</td>\n",
       "      <td>3</td>\n",
       "      <td>1</td>\n",
       "      <td>0</td>\n",
       "      <td>1</td>\n",
       "      <td>0</td>\n",
       "      <td>1</td>\n",
       "    </tr>\n",
       "    <tr>\n",
       "      <th>69998</th>\n",
       "      <td>22431</td>\n",
       "      <td>1</td>\n",
       "      <td>163</td>\n",
       "      <td>72.0</td>\n",
       "      <td>135</td>\n",
       "      <td>80</td>\n",
       "      <td>1</td>\n",
       "      <td>2</td>\n",
       "      <td>0</td>\n",
       "      <td>0</td>\n",
       "      <td>0</td>\n",
       "      <td>1</td>\n",
       "    </tr>\n",
       "    <tr>\n",
       "      <th>69999</th>\n",
       "      <td>20540</td>\n",
       "      <td>1</td>\n",
       "      <td>170</td>\n",
       "      <td>72.0</td>\n",
       "      <td>120</td>\n",
       "      <td>80</td>\n",
       "      <td>2</td>\n",
       "      <td>1</td>\n",
       "      <td>0</td>\n",
       "      <td>0</td>\n",
       "      <td>1</td>\n",
       "      <td>0</td>\n",
       "    </tr>\n",
       "  </tbody>\n",
       "</table>\n",
       "<p>70000 rows × 12 columns</p>\n",
       "</div>"
      ],
      "text/plain": [
       "         age gender  height  weight  ap_hi  ap_lo cholesterol gluc smoke alco  \\\n",
       "0      18393      2     168    62.0    110     80           1    1     0    0   \n",
       "1      20228      1     156    85.0    140     90           3    1     0    0   \n",
       "2      18857      1     165    64.0    130     70           3    1     0    0   \n",
       "3      17623      2     169    82.0    150    100           1    1     0    0   \n",
       "4      17474      1     156    56.0    100     60           1    1     0    0   \n",
       "...      ...    ...     ...     ...    ...    ...         ...  ...   ...  ...   \n",
       "69995  19240      2     168    76.0    120     80           1    1     1    0   \n",
       "69996  22601      1     158   126.0    140     90           2    2     0    0   \n",
       "69997  19066      2     183   105.0    180     90           3    1     0    1   \n",
       "69998  22431      1     163    72.0    135     80           1    2     0    0   \n",
       "69999  20540      1     170    72.0    120     80           2    1     0    0   \n",
       "\n",
       "      active  cardio  \n",
       "0          1       0  \n",
       "1          1       1  \n",
       "2          0       1  \n",
       "3          1       1  \n",
       "4          0       0  \n",
       "...      ...     ...  \n",
       "69995      1       0  \n",
       "69996      1       1  \n",
       "69997      0       1  \n",
       "69998      0       1  \n",
       "69999      1       0  \n",
       "\n",
       "[70000 rows x 12 columns]"
      ]
     },
     "execution_count": 7,
     "metadata": {},
     "output_type": "execute_result"
    }
   ],
   "source": [
    "# Remove the id column\n",
    "Cardio = Cardio.drop(columns='id')\n",
    "\n",
    "# Convert categorical variables into “category” data type\n",
    "cat_attribs = ['gender', 'cholesterol', 'gluc', 'smoke', 'alco', 'active']\n",
    "\n",
    "# Create a list that contains numerical attributes\n",
    "num_attribs = ['age', 'height', 'weight', 'ap_hi', 'ap_lo']\n",
    "\n",
    "# Covert the data type of categorical attributes into \"category\"\n",
    "for cat_attrib in cat_attribs: # iterate over\n",
    "    Cardio[cat_attrib] = Cardio[cat_attrib].astype('category') # convert data\n",
    "Cardio"
   ]
  },
  {
   "cell_type": "code",
   "execution_count": 8,
   "id": "f7892b41",
   "metadata": {},
   "outputs": [
    {
     "data": {
      "text/html": [
       "<div>\n",
       "<style scoped>\n",
       "    .dataframe tbody tr th:only-of-type {\n",
       "        vertical-align: middle;\n",
       "    }\n",
       "\n",
       "    .dataframe tbody tr th {\n",
       "        vertical-align: top;\n",
       "    }\n",
       "\n",
       "    .dataframe thead th {\n",
       "        text-align: right;\n",
       "    }\n",
       "</style>\n",
       "<table border=\"1\" class=\"dataframe\">\n",
       "  <thead>\n",
       "    <tr style=\"text-align: right;\">\n",
       "      <th></th>\n",
       "      <th>count</th>\n",
       "      <th>mean</th>\n",
       "      <th>std</th>\n",
       "      <th>min</th>\n",
       "      <th>25%</th>\n",
       "      <th>50%</th>\n",
       "      <th>75%</th>\n",
       "      <th>max</th>\n",
       "    </tr>\n",
       "  </thead>\n",
       "  <tbody>\n",
       "    <tr>\n",
       "      <th>age</th>\n",
       "      <td>70000.0</td>\n",
       "      <td>19468.865814</td>\n",
       "      <td>2467.251667</td>\n",
       "      <td>10798.0</td>\n",
       "      <td>17664.0</td>\n",
       "      <td>19703.0</td>\n",
       "      <td>21327.0</td>\n",
       "      <td>23713.0</td>\n",
       "    </tr>\n",
       "    <tr>\n",
       "      <th>height</th>\n",
       "      <td>70000.0</td>\n",
       "      <td>164.359229</td>\n",
       "      <td>8.210126</td>\n",
       "      <td>55.0</td>\n",
       "      <td>159.0</td>\n",
       "      <td>165.0</td>\n",
       "      <td>170.0</td>\n",
       "      <td>250.0</td>\n",
       "    </tr>\n",
       "    <tr>\n",
       "      <th>weight</th>\n",
       "      <td>70000.0</td>\n",
       "      <td>74.205690</td>\n",
       "      <td>14.395757</td>\n",
       "      <td>10.0</td>\n",
       "      <td>65.0</td>\n",
       "      <td>72.0</td>\n",
       "      <td>82.0</td>\n",
       "      <td>200.0</td>\n",
       "    </tr>\n",
       "    <tr>\n",
       "      <th>ap_hi</th>\n",
       "      <td>70000.0</td>\n",
       "      <td>128.817286</td>\n",
       "      <td>154.011419</td>\n",
       "      <td>-150.0</td>\n",
       "      <td>120.0</td>\n",
       "      <td>120.0</td>\n",
       "      <td>140.0</td>\n",
       "      <td>16020.0</td>\n",
       "    </tr>\n",
       "    <tr>\n",
       "      <th>ap_lo</th>\n",
       "      <td>70000.0</td>\n",
       "      <td>96.630414</td>\n",
       "      <td>188.472530</td>\n",
       "      <td>-70.0</td>\n",
       "      <td>80.0</td>\n",
       "      <td>80.0</td>\n",
       "      <td>90.0</td>\n",
       "      <td>11000.0</td>\n",
       "    </tr>\n",
       "    <tr>\n",
       "      <th>cardio</th>\n",
       "      <td>70000.0</td>\n",
       "      <td>0.499700</td>\n",
       "      <td>0.500003</td>\n",
       "      <td>0.0</td>\n",
       "      <td>0.0</td>\n",
       "      <td>0.0</td>\n",
       "      <td>1.0</td>\n",
       "      <td>1.0</td>\n",
       "    </tr>\n",
       "  </tbody>\n",
       "</table>\n",
       "</div>"
      ],
      "text/plain": [
       "          count          mean          std      min      25%      50%  \\\n",
       "age     70000.0  19468.865814  2467.251667  10798.0  17664.0  19703.0   \n",
       "height  70000.0    164.359229     8.210126     55.0    159.0    165.0   \n",
       "weight  70000.0     74.205690    14.395757     10.0     65.0     72.0   \n",
       "ap_hi   70000.0    128.817286   154.011419   -150.0    120.0    120.0   \n",
       "ap_lo   70000.0     96.630414   188.472530    -70.0     80.0     80.0   \n",
       "cardio  70000.0      0.499700     0.500003      0.0      0.0      0.0   \n",
       "\n",
       "            75%      max  \n",
       "age     21327.0  23713.0  \n",
       "height    170.0    250.0  \n",
       "weight     82.0    200.0  \n",
       "ap_hi     140.0  16020.0  \n",
       "ap_lo      90.0  11000.0  \n",
       "cardio      1.0      1.0  "
      ]
     },
     "execution_count": 8,
     "metadata": {},
     "output_type": "execute_result"
    }
   ],
   "source": [
    "# Summary of numerical attributes' statistics\n",
    "Cardio.describe().transpose()"
   ]
  },
  {
   "cell_type": "markdown",
   "id": "8f7102e2",
   "metadata": {},
   "source": [
    "As per the basic description of the numerical data, we identified that both min value for both ap_hi and ap-low "
   ]
  },
  {
   "cell_type": "code",
   "execution_count": 9,
   "id": "655a7327",
   "metadata": {},
   "outputs": [],
   "source": [
    "# Convert the age into years\n",
    "Cardio['age'] = Cardio['age'] // 365.25"
   ]
  },
  {
   "cell_type": "markdown",
   "id": "3173a827",
   "metadata": {},
   "source": [
    "Numerical Data Analysis\n",
    "\n",
    "Now we will visualise the data to make better sense of how our data is looking like. We\n",
    "will use box plots for prelimary data representation."
   ]
  },
  {
   "cell_type": "code",
   "execution_count": null,
   "id": "68060cfb",
   "metadata": {},
   "outputs": [
    {
     "data": {
      "image/png": "[encoded data removed]",
      "text/plain": [
       "<Figure size 1600x400 with 1 Axes>"
      ]
     },
     "metadata": {},
     "output_type": "display_data"
    },
    {
     "data": {
      "image/png": "[encoded data removed]",
      "text/plain": [
       "<Figure size 1600x400 with 1 Axes>"
      ]
     },
     "metadata": {},
     "output_type": "display_data"
    },
    {
     "data": {
      "image/png": "[encoded data removed]",
      "text/plain": [
       "<Figure size 1600x400 with 1 Axes>"
      ]
     },
     "metadata": {},
     "output_type": "display_data"
    },
    {
     "data": {
      "image/png": "[encoded data removed]",
      "text/plain": [
       "<Figure size 1600x400 with 1 Axes>"
      ]
     },
     "metadata": {},
     "output_type": "display_data"
    },
    {
     "data": {
      "image/png": "[encoded data removed]",
      "text/plain": [
       "<Figure size 1600x400 with 1 Axes>"
      ]
     },
     "metadata": {},
     "output_type": "display_data"
    }
   ],
   "source": [
    "# Extract numerical attributes from the dataset\n",
    "numeric_data = pd.DataFrame(Cardio[num_attribs])\n",
    "\n",
    "# Boxplot of the numeric data\n",
    "for var in numeric_data: # iterate over\n",
    "    fig, axes = plt.subplots(nrows=1, ncols=1, figsize=(16,4)) # setup the fr\n",
    "    sb.boxplot(data=Cardio, x=var, orient='h') # box plot"
   ]
  },
  {
   "cell_type": "markdown",
   "id": "ab7e9b56",
   "metadata": {},
   "source": [
    "Blood Pressure\n",
    "\n",
    "Based on the visuals from the boxplot for ap_hi and ap_lo, there are a lot of weird values\n",
    "(outliers) that can be filtered out. Systolic and Diastolic blood pressure should be within\n",
    "40 - 200 mmHg\n",
    "\n",
    "A blood pressure value of 140 mmHg is already considered dangerous, and a blood\n",
    "pressure of 60 mmHg will be considered as low pressure.\n",
    "\n",
    "In this prelimary data preparation, we want to find out how many outliers do we have\n",
    "amongst our current dataset which we will filter out by limiting the blood pressure to 40\n",
    "-200 mgHg"
   ]
  },
  {
   "cell_type": "code",
   "execution_count": null,
   "id": "bd14495c",
   "metadata": {},
   "outputs": [
    {
     "name": "stdout",
     "output_type": "stream",
     "text": [
      "The number of training examples have ap_hi and ap_lo outside the range of 40 - 200 mmHg\n"
     ]
    },
    {
     "data": {
      "text/plain": [
       "1303"
      ]
     },
     "execution_count": 17,
     "metadata": {},
     "output_type": "execute_result"
    }
   ],
   "source": [
    "# Extract Systolic (ap_hi) and Diastolic (ap_lo) blood pressure\n",
    "ap_hi = Cardio['ap_hi']\n",
    "ap_lo = Cardio['ap_lo']\n",
    "# Print number of unusual training examples\n",
    "print(\"The number of training examples have ap_hi and ap_lo outside the range of 40 - 200 mmHg\")\n",
    "Cardio['cardio'].loc[(ap_hi < 40) | (ap_hi > 200) | (ap_lo < 40) | (ap_lo > 140)].count()"
   ]
  },
  {
   "cell_type": "markdown",
   "id": "69d376f3",
   "metadata": {},
   "source": [
    "A total of 1303 data points have ap_hi and ap_lo outside the range of 40 - 200 mmHg which is around 1.8% of the dataset from our preliminary data preparation based on blood pressure alone."
   ]
  },
  {
   "cell_type": "code",
   "execution_count": null,
   "id": "466af14b",
   "metadata": {},
   "outputs": [
    {
     "data": {
      "text/plain": [
       "<AxesSubplot:xlabel='ap_lo'>"
      ]
     },
     "execution_count": 18,
     "metadata": {},
     "output_type": "execute_result"
    },
    {
     "data": {
      "image/png": "[encoded data removed]",
      "text/plain": [
       "<Figure size 1000x1000 with 2 Axes>"
      ]
     },
     "metadata": {},
     "output_type": "display_data"
    }
   ],
   "source": [
    "Cardio1 = Cardio.copy()\n",
    "\n",
    "Cardio1 = Cardio1.drop(Cardio.loc[(ap_hi < 40) | (ap_hi > 200) | (ap_lo < 40) | (ap_lo > 140)].index)\n",
    "fig, axes = plt.subplots(nrows=2, figsize=(10,10))\n",
    "sb.boxplot(data=Cardio1, x='ap_hi', ax=axes[0], orient='h')\n",
    "sb.boxplot(data=Cardio1, x='ap_lo', ax=axes[1], orient='h')"
   ]
  },
  {
   "cell_type": "markdown",
   "id": "b64d8d37",
   "metadata": {},
   "source": [
    "Considering we have yet to identify the dominant factor as a predictor for CVDs and \n",
    "we will potentially lose about 2% of data from the abnormal dataset, we will be converting \n",
    "the blood pressure readings into \"Category\" type to make better use of the data that we have for now.\n",
    "\n",
    "We will be splitting the data into the 5 level which is shown below (Picture is based on heart.org)"
   ]
  },
  {
   "cell_type": "markdown",
   "id": "fc77bf8c",
   "metadata": {},
   "source": [
    "We shall assign the 5 different stages of blood pressure from 1 to 5\n",
    "\n",
    "1. Normal\n",
    "2. Elevated\n",
    "3. High blood pressure (Hypertension) Stage 1\n",
    "4. High blood pressure (Hypertension) Stage 2\n",
    "5. Hypertensive crisis (Consult your doctor immediately)"
   ]
  },
  {
   "cell_type": "code",
   "execution_count": null,
   "id": "c889c676",
   "metadata": {},
   "outputs": [],
   "source": [
    "# Rank Systolic blood pressure\n",
    "Cardio.loc[ap_hi < 120, 'ap_hi'] = 1\n",
    "Cardio.loc[(ap_hi >= 120) & (ap_hi < 130), 'ap_hi'] = 2\n",
    "Cardio.loc[(ap_hi >= 130) & (ap_hi < 140), 'ap_hi'] = 3\n",
    "Cardio.loc[(ap_hi >= 140) & (ap_hi <= 180), 'ap_hi'] = 4\n",
    "Cardio.loc[ap_hi > 180, 'ap_hi'] = 5\n",
    "\n",
    "# Rank Diastolic blood pressure\n",
    "Cardio.loc[ap_lo < 80, 'ap_lo'] = 1\n",
    "Cardio.loc[(ap_lo >= 80) & (ap_lo < 90), 'ap_lo'] = 3\n",
    "Cardio.loc[(ap_lo >= 90) & (ap_lo <= 120), 'ap_lo'] = 4\n",
    "Cardio.loc[ap_lo > 120, 'ap_lo'] = 5"
   ]
  },
  {
   "cell_type": "markdown",
   "id": "28acd99d",
   "metadata": {},
   "source": [
    "We shall rank the data points and sort them into the different levels and add a new category replacing ap_hi and ap_lo with a new column called bloodpressure \"bp\"."
   ]
  },
  {
   "cell_type": "code",
   "execution_count": null,
   "id": "dccd60f0",
   "metadata": {},
   "outputs": [],
   "source": [
    "# Rank blood pressure and append it to the dataframe\n",
    "bp = pd.DataFrame(Cardio[['ap_hi', 'ap_lo']])\n",
    "Cardio['bp'] = bp.max(axis=1).astype('category')\n",
    "\n",
    "# Drop ap_hi, ap_lo columns\n",
    "Cardio = Cardio.drop(columns=['ap_hi', 'ap_lo'])\n",
    "\n",
    "# Update categorical and numerical attributes\n",
    "cat_attribs = ['gender', 'cholesterol', 'gluc', 'smoke', 'alco', 'active', 'bp', 'cardio']\n",
    "num_attribs = ['age', 'height', 'weight']"
   ]
  },
  {
   "cell_type": "code",
   "execution_count": null,
   "id": "e8da7959",
   "metadata": {},
   "outputs": [
    {
     "name": "stdout",
     "output_type": "stream",
     "text": [
      "<class 'pandas.core.frame.DataFrame'>\n",
      "RangeIndex: 70000 entries, 0 to 69999\n",
      "Data columns (total 11 columns):\n",
      " #   Column       Non-Null Count  Dtype   \n",
      "---  ------       --------------  -----   \n",
      " 0   age          70000 non-null  float64 \n",
      " 1   gender       70000 non-null  category\n",
      " 2   height       70000 non-null  int64   \n",
      " 3   weight       70000 non-null  float64 \n",
      " 4   cholesterol  70000 non-null  category\n",
      " 5   gluc         70000 non-null  category\n",
      " 6   smoke        70000 non-null  category\n",
      " 7   alco         70000 non-null  category\n",
      " 8   active       70000 non-null  category\n",
      " 9   cardio       70000 non-null  int64   \n",
      " 10  bp           70000 non-null  category\n",
      "dtypes: category(7), float64(2), int64(2)\n",
      "memory usage: 2.6 MB\n"
     ]
    }
   ],
   "source": [
    "Cardio.info()"
   ]
  },
  {
   "cell_type": "code",
   "execution_count": null,
   "id": "8f0ffa7f",
   "metadata": {},
   "outputs": [],
   "source": []
  }
 ],
 "metadata": {
  "kernelspec": {
   "display_name": "Python 3 (ipykernel)",
   "language": "python",
   "name": "python3"
  },
  "language_info": {
   "codemirror_mode": {
    "name": "ipython",
    "version": 3
   },
   "file_extension": ".py",
   "mimetype": "text/x-python",
   "name": "python",
   "nbconvert_exporter": "python",
   "pygments_lexer": "ipython3",
   "version": "3.9.13"
  }
 },
 "nbformat": 4,
 "nbformat_minor": 5
}
